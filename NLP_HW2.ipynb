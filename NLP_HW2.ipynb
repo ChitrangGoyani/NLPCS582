{
  "cells": [
    {
      "cell_type": "code",
      "execution_count": 1,
      "metadata": {
        "id": "OWGd5dLOstKL",
        "colab": {
          "base_uri": "https://localhost:8080/"
        },
        "outputId": "28e0375f-520f-4bd2-d1d9-5e1ea431cd3c"
      },
      "outputs": [
        {
          "output_type": "stream",
          "name": "stdout",
          "text": [
            "Sun Apr  9 23:54:28 2023       \n",
            "+-----------------------------------------------------------------------------+\n",
            "| NVIDIA-SMI 525.85.12    Driver Version: 525.85.12    CUDA Version: 12.0     |\n",
            "|-------------------------------+----------------------+----------------------+\n",
            "| GPU  Name        Persistence-M| Bus-Id        Disp.A | Volatile Uncorr. ECC |\n",
            "| Fan  Temp  Perf  Pwr:Usage/Cap|         Memory-Usage | GPU-Util  Compute M. |\n",
            "|                               |                      |               MIG M. |\n",
            "|===============================+======================+======================|\n",
            "|   0  Tesla T4            Off  | 00000000:00:04.0 Off |                    0 |\n",
            "| N/A   54C    P8    10W /  70W |      0MiB / 15360MiB |      0%      Default |\n",
            "|                               |                      |                  N/A |\n",
            "+-------------------------------+----------------------+----------------------+\n",
            "                                                                               \n",
            "+-----------------------------------------------------------------------------+\n",
            "| Processes:                                                                  |\n",
            "|  GPU   GI   CI        PID   Type   Process name                  GPU Memory |\n",
            "|        ID   ID                                                   Usage      |\n",
            "|=============================================================================|\n",
            "|  No running processes found                                                 |\n",
            "+-----------------------------------------------------------------------------+\n"
          ]
        }
      ],
      "source": [
        "!nvidia-smi"
      ]
    },
    {
      "cell_type": "code",
      "execution_count": 4,
      "metadata": {
        "colab": {
          "base_uri": "https://localhost:8080/"
        },
        "id": "LyW6e1PNeICF",
        "outputId": "e21846a0-3ec4-40ea-a19f-15b1e803d823"
      },
      "outputs": [
        {
          "output_type": "stream",
          "name": "stdout",
          "text": [
            "Looking in indexes: https://pypi.org/simple, https://us-python.pkg.dev/colab-wheels/public/simple/\n",
            "Collecting Keras-Preprocessing\n",
            "  Downloading Keras_Preprocessing-1.1.2-py2.py3-none-any.whl (42 kB)\n",
            "\u001b[2K     \u001b[90m━━━━━━━━━━━━━━━━━━━━━━━━━━━━━━━━━━━━━━━━\u001b[0m \u001b[32m42.6/42.6 KB\u001b[0m \u001b[31m5.0 MB/s\u001b[0m eta \u001b[36m0:00:00\u001b[0m\n",
            "\u001b[?25hRequirement already satisfied: six>=1.9.0 in /usr/local/lib/python3.9/dist-packages (from Keras-Preprocessing) (1.16.0)\n",
            "Requirement already satisfied: numpy>=1.9.1 in /usr/local/lib/python3.9/dist-packages (from Keras-Preprocessing) (1.22.4)\n",
            "Installing collected packages: Keras-Preprocessing\n",
            "Successfully installed Keras-Preprocessing-1.1.2\n"
          ]
        }
      ],
      "source": [
        "!pip install Keras-Preprocessing"
      ]
    },
    {
      "cell_type": "markdown",
      "source": [
        "Imports"
      ],
      "metadata": {
        "id": "yC6d1T7ZL6tM"
      }
    },
    {
      "cell_type": "code",
      "execution_count": 5,
      "metadata": {
        "colab": {
          "base_uri": "https://localhost:8080/",
          "height": 17
        },
        "id": "v8GzMlR_6abf",
        "outputId": "82f0a200-38ad-404b-d32a-eb30d19f34aa"
      },
      "outputs": [
        {
          "output_type": "display_data",
          "data": {
            "text/html": [
              "        <script type=\"text/javascript\">\n",
              "        window.PlotlyConfig = {MathJaxConfig: 'local'};\n",
              "        if (window.MathJax && window.MathJax.Hub && window.MathJax.Hub.Config) {window.MathJax.Hub.Config({SVG: {font: \"STIX-Web\"}});}\n",
              "        if (typeof require !== 'undefined') {\n",
              "        require.undef(\"plotly\");\n",
              "        requirejs.config({\n",
              "            paths: {\n",
              "                'plotly': ['https://cdn.plot.ly/plotly-2.18.2.min']\n",
              "            }\n",
              "        });\n",
              "        require(['plotly'], function(Plotly) {\n",
              "            window._Plotly = Plotly;\n",
              "        });\n",
              "        }\n",
              "        </script>\n",
              "        "
            ]
          },
          "metadata": {}
        }
      ],
      "source": [
        "import pandas as pd\n",
        "# Keras\n",
        "from keras_preprocessing.text import Tokenizer\n",
        "from keras_preprocessing.sequence import pad_sequences\n",
        "from keras.models import Sequential\n",
        "from keras.layers import Dense, Flatten, LSTM, Conv1D, MaxPooling1D, Dropout, Activation, Conv2D, GlobalMaxPooling1D\n",
        "from keras.layers import Embedding\n",
        "## Plotly\n",
        "import plotly.offline as py\n",
        "import plotly.graph_objs as go\n",
        "py.init_notebook_mode(connected=True)\n",
        "# Others\n",
        "import nltk\n",
        "import string\n",
        "import numpy as np\n",
        "import pandas as pd\n",
        "from nltk.corpus import stopwords"
      ]
    },
    {
      "cell_type": "markdown",
      "source": [
        "Filepath setup"
      ],
      "metadata": {
        "id": "Y4NruP6iL-xR"
      }
    },
    {
      "cell_type": "code",
      "execution_count": null,
      "metadata": {
        "id": "aYOv719DbZVV"
      },
      "outputs": [],
      "source": [
        "INPUT_FOLDER = '/content/drive/MyDrive/Datasets/'\n",
        "OUTPUT_FOLDER = ''\n",
        "PATH_TO_YELP_REVIEWS = INPUT_FOLDER + '/yelp_academic_dataset_review.json'\n",
        "filename = PATH_TO_YELP_REVIEWS"
      ]
    },
    {
      "cell_type": "markdown",
      "source": [
        "Converting json to csv"
      ],
      "metadata": {
        "id": "CZKQskU7MBEP"
      }
    },
    {
      "cell_type": "code",
      "source": [
        "chunks = pd.read_json(filename, lines=True, chunksize=100)\n",
        "for c in chunks:\n",
        "  c['text'] = c['text'].replace('\\n','').replace('\\n\\n','').replace('\\\\n')\n",
        "  x = pd.DataFrame.from_dict(c)\n",
        "  x.to_csv('gen.csv', mode='a', index=False, header=False)"
      ],
      "metadata": {
        "id": "mtRRK_CN57mg"
      },
      "execution_count": null,
      "outputs": []
    },
    {
      "cell_type": "markdown",
      "source": [
        "Reading CSV in pandas dataframe"
      ],
      "metadata": {
        "id": "fTntwPyOMGko"
      }
    },
    {
      "cell_type": "code",
      "execution_count": 6,
      "metadata": {
        "id": "R9v49DrWRid_"
      },
      "outputs": [],
      "source": [
        "df = pd.read_csv('/content/drive/MyDrive/Datasets/yelp_review.csv', on_bad_lines='skip', nrows=500000, names=[\"some_id1\", \"some_id2\", \"some_id3\", \"stars\", \"useful\", \"funny\", \"cool\", \"text\", \"date\"])"
      ]
    },
    {
      "cell_type": "markdown",
      "source": [
        "Filtering text and defining labels"
      ],
      "metadata": {
        "id": "uTfxi9JqMLYT"
      }
    },
    {
      "cell_type": "code",
      "execution_count": 7,
      "metadata": {
        "id": "oe9O70o96x7Y"
      },
      "outputs": [],
      "source": [
        "df= df.dropna()\n",
        "df = df[df.stars.apply(lambda x: x !=\"\")]\n",
        "df = df[df.text.apply(lambda x: x !=\"\")]\n",
        "\n",
        "labels = df['stars'].map(lambda x : 1 if int(x) > 3 else 0)"
      ]
    },
    {
      "cell_type": "markdown",
      "source": [
        "Cleaning the data"
      ],
      "metadata": {
        "id": "cb5yleOyMPIR"
      }
    },
    {
      "cell_type": "code",
      "source": [
        "import nltk \n",
        "nltk.download('stopwords')\n",
        "from nltk.stem.snowball import SnowballStemmer\n",
        "\n",
        "import re\n",
        "def clean_text(text):\n",
        "    \n",
        "    ## Remove puncuation\n",
        "    text = text.translate(string.punctuation)\n",
        "    \n",
        "    ## Convert words to lower case and split them\n",
        "    text = text.lower().split()\n",
        "    \n",
        "    ## Remove stop words\n",
        "    stops = set(stopwords.words(\"english\"))\n",
        "    text = [w for w in text if not w in stops and len(w) >= 3]\n",
        "    \n",
        "    text = \" \".join(text)    ## Clean the text\n",
        "    text = re.sub(r\"[^A-Za-z0-9^,!.\\/'+-=]\", \" \", text)\n",
        "    text = re.sub(r\"what's\", \"what is \", text)\n",
        "    text = re.sub(r\"\\'s\", \" \", text)\n",
        "    text = re.sub(r\"\\'ve\", \" have \", text)\n",
        "    text = re.sub(r\"n't\", \" not \", text)\n",
        "    text = re.sub(r\"i'm\", \"i am \", text)\n",
        "    text = re.sub(r\"\\'re\", \" are \", text)\n",
        "    text = re.sub(r\"\\'d\", \" would \", text)\n",
        "    text = re.sub(r\"\\'ll\", \" will \", text)\n",
        "    text = re.sub(r\",\", \" \", text)\n",
        "    text = re.sub(r\"\\.\", \" \", text)\n",
        "    text = re.sub(r\"!\", \" ! \", text)\n",
        "    text = re.sub(r\"\\/\", \" \", text)\n",
        "    text = re.sub(r\"\\^\", \" ^ \", text)\n",
        "    text = re.sub(r\"\\+\", \" + \", text)\n",
        "    text = re.sub(r\"\\-\", \" - \", text)\n",
        "    text = re.sub(r\"\\=\", \" = \", text)\n",
        "    text = re.sub(r\"'\", \" \", text)\n",
        "    text = re.sub(r\"(\\d+)(k)\", r\"\\g<1>000\", text)\n",
        "    text = re.sub(r\":\", \" : \", text)\n",
        "    text = re.sub(r\" e g \", \" eg \", text)\n",
        "    text = re.sub(r\" b g \", \" bg \", text)\n",
        "    text = re.sub(r\" u s \", \" american \", text)\n",
        "    text = re.sub(r\"\\0s\", \"0\", text)\n",
        "    text = re.sub(r\" 9 11 \", \"911\", text)\n",
        "    text = re.sub(r\"e - mail\", \"email\", text)\n",
        "    text = re.sub(r\"j k\", \"jk\", text)\n",
        "    text = re.sub(r\"\\s{2,}\", \" \", text)    \n",
        "    ## Stemming\n",
        "    text = text.split()\n",
        "    stemmer = SnowballStemmer('english')\n",
        "    stemmed_words = [stemmer.stem(word) for word in text]\n",
        "    text = \" \".join(stemmed_words)\n",
        "    return text\n",
        "\n",
        "df['text'] = df['text'].map(lambda x: clean_text(x))"
      ],
      "metadata": {
        "id": "8gqVjphasGns",
        "colab": {
          "base_uri": "https://localhost:8080/"
        },
        "outputId": "c10d1e4e-2804-41b9-e3f9-06d949f01d86"
      },
      "execution_count": 8,
      "outputs": [
        {
          "output_type": "stream",
          "name": "stderr",
          "text": [
            "[nltk_data] Downloading package stopwords to /root/nltk_data...\n",
            "[nltk_data]   Unzipping corpora/stopwords.zip.\n"
          ]
        }
      ]
    },
    {
      "cell_type": "markdown",
      "source": [
        "Creating sequences (tokenization)"
      ],
      "metadata": {
        "id": "I97rANwUMRvy"
      }
    },
    {
      "cell_type": "code",
      "execution_count": 9,
      "metadata": {
        "id": "TCUGBXMe_oPV"
      },
      "outputs": [],
      "source": [
        "#Create sequence\n",
        "vocabulary_size = 500000\n",
        "tokenizer = Tokenizer(num_words= vocabulary_size)\n",
        "tokenizer.fit_on_texts(df['text'])\n",
        "sequences = tokenizer.texts_to_sequences(df['text'])\n",
        "data = pad_sequences(sequences, maxlen=100)"
      ]
    },
    {
      "cell_type": "markdown",
      "source": [
        "GloVe 6B 300d"
      ],
      "metadata": {
        "id": "1Dlm2V0EMWqL"
      }
    },
    {
      "cell_type": "code",
      "execution_count": 63,
      "metadata": {
        "id": "pPzdMHhIrmBO"
      },
      "outputs": [],
      "source": [
        "embeddings_index = dict()\n",
        "f = open('/content/drive/MyDrive/Datasets/glove.6B.300d.txt')\n",
        "for line in f:\n",
        "    values = line.split()\n",
        "    word = values[0]\n",
        "    coefs = np.asarray(values[1:], dtype='float32')\n",
        "    embeddings_index[word] = coefs\n",
        "f.close()"
      ]
    },
    {
      "cell_type": "markdown",
      "source": [
        "GloVe 6B 100d"
      ],
      "metadata": {
        "id": "8OfPdhgTMZ5g"
      }
    },
    {
      "cell_type": "code",
      "source": [
        "# embeddings_index = dict()\n",
        "# f = open('/content/drive/MyDrive/Datasets/glove.6B.100d.txt')\n",
        "# for line in f:\n",
        "#     values = line.split()\n",
        "#     word = values[0]\n",
        "#     coefs = np.asarray(values[1:], dtype='float32')\n",
        "#     embeddings_index[word] = coefs\n",
        "# f.close()"
      ],
      "metadata": {
        "id": "uzSTineepXPu"
      },
      "execution_count": 25,
      "outputs": []
    },
    {
      "cell_type": "markdown",
      "source": [
        "Word2Vec wiki-news-300d-1M-subword"
      ],
      "metadata": {
        "id": "R-Yd7iRIMcpU"
      }
    },
    {
      "cell_type": "code",
      "source": [
        "from gensim.models.keyedvectors import KeyedVectors\n",
        "embs_path = '/content/drive/MyDrive/Datasets/wiki-news-300d-1M-subword.vec'\n",
        "embeddings = KeyedVectors.load_word2vec_format(embs_path, binary=False)\n",
        "dim = embeddings.vectors.shape[1]\n",
        "pad = np.zeros(dim)\n",
        "np.random.seed(3)\n",
        "oov = np.random.uniform(-0.25, 0.25, dim)"
      ],
      "metadata": {
        "id": "Inoe5WGdQ-Ri"
      },
      "execution_count": 11,
      "outputs": []
    },
    {
      "cell_type": "markdown",
      "source": [
        "W2V Emedding Matrix"
      ],
      "metadata": {
        "id": "SjJBHLDTMhuT"
      }
    },
    {
      "cell_type": "code",
      "source": [
        "embedding_matrix_w2v = np.zeros((vocabulary_size, 300))\n",
        "for word, index in tokenizer.word_index.items():\n",
        "    if index > vocabulary_size - 1:\n",
        "        break\n",
        "    else:\n",
        "      try:\n",
        "        embedding_vector = embeddings[word]\n",
        "        if embedding_vector is not None:\n",
        "          embedding_matrix_w2v[index] = embedding_vector\n",
        "      except:\n",
        "        embedding_matrix_w2v[index] = oov"
      ],
      "metadata": {
        "id": "d_gM1CDXUJ12"
      },
      "execution_count": 64,
      "outputs": []
    },
    {
      "cell_type": "markdown",
      "source": [
        "GloVe Embedding Matrix"
      ],
      "metadata": {
        "id": "vZybiuMmMj08"
      }
    },
    {
      "cell_type": "code",
      "execution_count": 65,
      "metadata": {
        "id": "sxW9YSGhr7BF"
      },
      "outputs": [],
      "source": [
        "embedding_matrix = np.zeros((vocabulary_size, 300))\n",
        "for word, index in tokenizer.word_index.items():\n",
        "    if index > vocabulary_size - 1:\n",
        "        break\n",
        "    else:\n",
        "        embedding_vector = embeddings_index.get(word)\n",
        "        if embedding_vector is not None:\n",
        "            embedding_matrix[index] = embedding_vector"
      ]
    },
    {
      "cell_type": "code",
      "source": [
        "# embedding_matrix = np.zeros((vocabulary_size, 100))\n",
        "# for word, index in tokenizer.word_index.items():\n",
        "#     if index > vocabulary_size - 1:\n",
        "#         break\n",
        "#     else:\n",
        "#         embedding_vector = embeddings_index.get(word)\n",
        "#         if embedding_vector is not None:\n",
        "#             embedding_matrix[index] = embedding_vector"
      ],
      "metadata": {
        "id": "odLuQaxgphSF"
      },
      "execution_count": 27,
      "outputs": []
    },
    {
      "cell_type": "markdown",
      "source": [
        "CNN Model"
      ],
      "metadata": {
        "id": "HmXQrGIzMqJV"
      }
    },
    {
      "cell_type": "code",
      "execution_count": 67,
      "metadata": {
        "id": "mGtMqVCcOXlS",
        "colab": {
          "base_uri": "https://localhost:8080/"
        },
        "outputId": "4dba23dd-28be-4ec5-a703-09433bfae21b"
      },
      "outputs": [
        {
          "output_type": "stream",
          "name": "stdout",
          "text": [
            "Model: \"sequential_4\"\n",
            "_________________________________________________________________\n",
            " Layer (type)                Output Shape              Param #   \n",
            "=================================================================\n",
            " embedding_4 (Embedding)     (None, 100, 300)          150000000 \n",
            "                                                                 \n",
            " conv1d_3 (Conv1D)           (None, 98, 10)            9010      \n",
            "                                                                 \n",
            " max_pooling1d_2 (MaxPooling  (None, 49, 10)           0         \n",
            " 1D)                                                             \n",
            "                                                                 \n",
            " dropout_2 (Dropout)         (None, 49, 10)            0         \n",
            "                                                                 \n",
            " conv1d_4 (Conv1D)           (None, 47, 10)            310       \n",
            "                                                                 \n",
            " max_pooling1d_3 (MaxPooling  (None, 23, 10)           0         \n",
            " 1D)                                                             \n",
            "                                                                 \n",
            " dropout_3 (Dropout)         (None, 23, 10)            0         \n",
            "                                                                 \n",
            " conv1d_5 (Conv1D)           (None, 21, 10)            310       \n",
            "                                                                 \n",
            " global_max_pooling1d_1 (Glo  (None, 10)               0         \n",
            " balMaxPooling1D)                                                \n",
            "                                                                 \n",
            " dense_7 (Dense)             (None, 1)                 11        \n",
            "                                                                 \n",
            "=================================================================\n",
            "Total params: 150,009,641\n",
            "Trainable params: 150,009,641\n",
            "Non-trainable params: 0\n",
            "_________________________________________________________________\n"
          ]
        }
      ],
      "source": [
        "model_cnn = Sequential()\n",
        "model_cnn.add(Embedding(vocabulary_size, 300, input_length=100, weights=[embedding_matrix]))\n",
        "model_cnn.add(Conv1D(filters=10,use_bias=True,input_shape=(100,300),activation='relu',kernel_size=3))\n",
        "model_cnn.add(MaxPooling1D(2))\n",
        "model_cnn.add(Dropout(.2))\n",
        "model_cnn.add(Conv1D(filters=10,use_bias=True,input_shape=(100,300),activation='relu',kernel_size=3))\n",
        "model_cnn.add(MaxPooling1D(2))\n",
        "model_cnn.add(Dropout(.2))\n",
        "model_cnn.add(Conv1D(filters=10,use_bias=True,input_shape=(100,300),activation='relu',kernel_size=3))\n",
        "model_cnn.add(GlobalMaxPooling1D())\n",
        "model_cnn.add(Dense(1,activation='sigmoid'))\n",
        "model_cnn.compile(optimizer='adam',loss='binary_crossentropy',metrics=['acc'])\n",
        "model_cnn.summary()"
      ]
    },
    {
      "cell_type": "code",
      "execution_count": 68,
      "metadata": {
        "id": "6q3UdsSxTYqc",
        "colab": {
          "base_uri": "https://localhost:8080/"
        },
        "outputId": "57a4dc04-63b8-4fc9-9651-4fea96835556"
      },
      "outputs": [
        {
          "output_type": "stream",
          "name": "stdout",
          "text": [
            "Epoch 1/10\n",
            "391/391 [==============================] - 63s 142ms/step - loss: 0.3753 - acc: 0.8323 - val_loss: 0.2619 - val_acc: 0.8999\n",
            "Epoch 2/10\n",
            "391/391 [==============================] - 32s 82ms/step - loss: 0.2723 - acc: 0.8895 - val_loss: 0.2523 - val_acc: 0.9045\n",
            "Epoch 3/10\n",
            "391/391 [==============================] - 27s 70ms/step - loss: 0.2527 - acc: 0.8987 - val_loss: 0.2485 - val_acc: 0.9058\n",
            "Epoch 4/10\n",
            "391/391 [==============================] - 24s 63ms/step - loss: 0.2388 - acc: 0.9048 - val_loss: 0.2466 - val_acc: 0.9055\n",
            "Epoch 5/10\n",
            "391/391 [==============================] - 21s 55ms/step - loss: 0.2273 - acc: 0.9098 - val_loss: 0.2442 - val_acc: 0.9040\n",
            "Epoch 6/10\n",
            "391/391 [==============================] - 20s 51ms/step - loss: 0.2157 - acc: 0.9151 - val_loss: 0.2463 - val_acc: 0.9034\n",
            "Epoch 7/10\n",
            "391/391 [==============================] - 22s 56ms/step - loss: 0.2059 - acc: 0.9189 - val_loss: 0.2448 - val_acc: 0.9028\n",
            "Epoch 8/10\n",
            "391/391 [==============================] - 20s 51ms/step - loss: 0.1942 - acc: 0.9241 - val_loss: 0.2459 - val_acc: 0.9016\n",
            "Epoch 9/10\n",
            "391/391 [==============================] - 21s 53ms/step - loss: 0.1845 - acc: 0.9284 - val_loss: 0.2504 - val_acc: 0.8999\n",
            "Epoch 10/10\n",
            "391/391 [==============================] - 20s 52ms/step - loss: 0.1762 - acc: 0.9322 - val_loss: 0.2553 - val_acc: 0.8990\n"
          ]
        },
        {
          "output_type": "execute_result",
          "data": {
            "text/plain": [
              "<keras.callbacks.History at 0x7f4dffb3d160>"
            ]
          },
          "metadata": {},
          "execution_count": 68
        }
      ],
      "source": [
        "model_cnn.fit(data, np.array(labels), batch_size = 1024, validation_split=0.2, epochs=10)"
      ]
    },
    {
      "cell_type": "markdown",
      "source": [
        "LSTM Model"
      ],
      "metadata": {
        "id": "maue17K3Ms9j"
      }
    },
    {
      "cell_type": "code",
      "execution_count": 28,
      "metadata": {
        "colab": {
          "base_uri": "https://localhost:8080/"
        },
        "id": "K-Enhsay_uPB",
        "outputId": "bf6e3331-3530-4b3d-bd66-1ca5290268fd"
      },
      "outputs": [
        {
          "output_type": "stream",
          "name": "stderr",
          "text": [
            "WARNING:tensorflow:Layer lstm_2 will not use cuDNN kernels since it doesn't meet the criteria. It will use a generic GPU kernel as fallback when running on GPU.\n"
          ]
        },
        {
          "output_type": "stream",
          "name": "stdout",
          "text": [
            "Model: \"sequential_2\"\n",
            "_________________________________________________________________\n",
            " Layer (type)                Output Shape              Param #   \n",
            "=================================================================\n",
            " embedding_2 (Embedding)     (None, 100, 100)          50000000  \n",
            "                                                                 \n",
            " lstm_2 (LSTM)               (None, 100)               80400     \n",
            "                                                                 \n",
            " dense_4 (Dense)             (None, 24)                2424      \n",
            "                                                                 \n",
            " dense_5 (Dense)             (None, 1)                 25        \n",
            "                                                                 \n",
            "=================================================================\n",
            "Total params: 50,082,849\n",
            "Trainable params: 50,082,849\n",
            "Non-trainable params: 0\n",
            "_________________________________________________________________\n"
          ]
        }
      ],
      "source": [
        "model = Sequential()\n",
        "model.add(Embedding(vocabulary_size, 100, input_length=300, weights=[embedding_matrix], trainable=True))\n",
        "model.add(LSTM(100, dropout=0.5, recurrent_dropout=0.2))\n",
        "model.add(Dense(24, activation='tanh'))\n",
        "model.add(Dense(1, activation='sigmoid'))\n",
        "model.compile(loss='binary_crossentropy', optimizer='adam', metrics=['accuracy'])\n",
        "model.summary()"
      ]
    },
    {
      "cell_type": "code",
      "execution_count": 72,
      "metadata": {
        "colab": {
          "base_uri": "https://localhost:8080/"
        },
        "id": "vmgFZ0z0_xLH",
        "outputId": "d72e45ec-f4f1-4374-e96e-d3669f073b64"
      },
      "outputs": [
        {
          "output_type": "stream",
          "name": "stdout",
          "text": [
            "Epoch 1/10\n",
            "391/391 [==============================] - 201s 515ms/step - loss: 0.2202 - accuracy: 0.9097 - val_loss: 0.2015 - val_accuracy: 0.9178\n",
            "Epoch 2/10\n",
            "391/391 [==============================] - 196s 500ms/step - loss: 0.2104 - accuracy: 0.9143 - val_loss: 0.2079 - val_accuracy: 0.9188\n",
            "Epoch 3/10\n",
            "391/391 [==============================] - 197s 504ms/step - loss: 0.2021 - accuracy: 0.9182 - val_loss: 0.2099 - val_accuracy: 0.9197\n",
            "Epoch 4/10\n",
            "391/391 [==============================] - 196s 501ms/step - loss: 0.1944 - accuracy: 0.9213 - val_loss: 0.2031 - val_accuracy: 0.9201\n",
            "Epoch 5/10\n",
            "391/391 [==============================] - 220s 563ms/step - loss: 0.1874 - accuracy: 0.9243 - val_loss: 0.2070 - val_accuracy: 0.9208\n",
            "Epoch 6/10\n",
            "391/391 [==============================] - 194s 495ms/step - loss: 0.1798 - accuracy: 0.9277 - val_loss: 0.2037 - val_accuracy: 0.9208\n",
            "Epoch 7/10\n",
            "391/391 [==============================] - 195s 499ms/step - loss: 0.1732 - accuracy: 0.9306 - val_loss: 0.2197 - val_accuracy: 0.9171\n",
            "Epoch 8/10\n",
            "391/391 [==============================] - 196s 501ms/step - loss: 0.1666 - accuracy: 0.9334 - val_loss: 0.2123 - val_accuracy: 0.9175\n",
            "Epoch 9/10\n",
            "391/391 [==============================] - 210s 537ms/step - loss: 0.1603 - accuracy: 0.9357 - val_loss: 0.2337 - val_accuracy: 0.9176\n",
            "Epoch 10/10\n",
            "391/391 [==============================] - 187s 479ms/step - loss: 0.1535 - accuracy: 0.9388 - val_loss: 0.2315 - val_accuracy: 0.9179\n"
          ]
        }
      ],
      "source": [
        "history = model.fit(data, np.array(labels), batch_size = 1024, validation_split=0.2, epochs=10)"
      ]
    },
    {
      "cell_type": "markdown",
      "source": [
        "Metrics"
      ],
      "metadata": {
        "id": "HhMuBz3BMue4"
      }
    },
    {
      "cell_type": "code",
      "source": [
        "metrics_df = pd.DataFrame(history.history)"
      ],
      "metadata": {
        "id": "w_G1VjfDix_D"
      },
      "execution_count": 73,
      "outputs": []
    },
    {
      "cell_type": "code",
      "source": [
        "metrics_df"
      ],
      "metadata": {
        "colab": {
          "base_uri": "https://localhost:8080/",
          "height": 363
        },
        "id": "nopFQfejpQGC",
        "outputId": "a1b332e9-77cf-42c5-bda8-98516f5d9fe2"
      },
      "execution_count": 74,
      "outputs": [
        {
          "output_type": "execute_result",
          "data": {
            "text/plain": [
              "       loss  accuracy  val_loss  val_accuracy\n",
              "0  0.220162  0.909680  0.201473       0.91780\n",
              "1  0.210449  0.914325  0.207895       0.91879\n",
              "2  0.202054  0.918172  0.209948       0.91973\n",
              "3  0.194365  0.921290  0.203130       0.92011\n",
              "4  0.187378  0.924272  0.207039       0.92082\n",
              "5  0.179763  0.927737  0.203691       0.92085\n",
              "6  0.173151  0.930568  0.219734       0.91707\n",
              "7  0.166574  0.933370  0.212255       0.91751\n",
              "8  0.160254  0.935685  0.233708       0.91764\n",
              "9  0.153540  0.938752  0.231463       0.91793"
            ],
            "text/html": [
              "\n",
              "  <div id=\"df-80569360-c740-41b4-8d88-de944006f2e6\">\n",
              "    <div class=\"colab-df-container\">\n",
              "      <div>\n",
              "<style scoped>\n",
              "    .dataframe tbody tr th:only-of-type {\n",
              "        vertical-align: middle;\n",
              "    }\n",
              "\n",
              "    .dataframe tbody tr th {\n",
              "        vertical-align: top;\n",
              "    }\n",
              "\n",
              "    .dataframe thead th {\n",
              "        text-align: right;\n",
              "    }\n",
              "</style>\n",
              "<table border=\"1\" class=\"dataframe\">\n",
              "  <thead>\n",
              "    <tr style=\"text-align: right;\">\n",
              "      <th></th>\n",
              "      <th>loss</th>\n",
              "      <th>accuracy</th>\n",
              "      <th>val_loss</th>\n",
              "      <th>val_accuracy</th>\n",
              "    </tr>\n",
              "  </thead>\n",
              "  <tbody>\n",
              "    <tr>\n",
              "      <th>0</th>\n",
              "      <td>0.220162</td>\n",
              "      <td>0.909680</td>\n",
              "      <td>0.201473</td>\n",
              "      <td>0.91780</td>\n",
              "    </tr>\n",
              "    <tr>\n",
              "      <th>1</th>\n",
              "      <td>0.210449</td>\n",
              "      <td>0.914325</td>\n",
              "      <td>0.207895</td>\n",
              "      <td>0.91879</td>\n",
              "    </tr>\n",
              "    <tr>\n",
              "      <th>2</th>\n",
              "      <td>0.202054</td>\n",
              "      <td>0.918172</td>\n",
              "      <td>0.209948</td>\n",
              "      <td>0.91973</td>\n",
              "    </tr>\n",
              "    <tr>\n",
              "      <th>3</th>\n",
              "      <td>0.194365</td>\n",
              "      <td>0.921290</td>\n",
              "      <td>0.203130</td>\n",
              "      <td>0.92011</td>\n",
              "    </tr>\n",
              "    <tr>\n",
              "      <th>4</th>\n",
              "      <td>0.187378</td>\n",
              "      <td>0.924272</td>\n",
              "      <td>0.207039</td>\n",
              "      <td>0.92082</td>\n",
              "    </tr>\n",
              "    <tr>\n",
              "      <th>5</th>\n",
              "      <td>0.179763</td>\n",
              "      <td>0.927737</td>\n",
              "      <td>0.203691</td>\n",
              "      <td>0.92085</td>\n",
              "    </tr>\n",
              "    <tr>\n",
              "      <th>6</th>\n",
              "      <td>0.173151</td>\n",
              "      <td>0.930568</td>\n",
              "      <td>0.219734</td>\n",
              "      <td>0.91707</td>\n",
              "    </tr>\n",
              "    <tr>\n",
              "      <th>7</th>\n",
              "      <td>0.166574</td>\n",
              "      <td>0.933370</td>\n",
              "      <td>0.212255</td>\n",
              "      <td>0.91751</td>\n",
              "    </tr>\n",
              "    <tr>\n",
              "      <th>8</th>\n",
              "      <td>0.160254</td>\n",
              "      <td>0.935685</td>\n",
              "      <td>0.233708</td>\n",
              "      <td>0.91764</td>\n",
              "    </tr>\n",
              "    <tr>\n",
              "      <th>9</th>\n",
              "      <td>0.153540</td>\n",
              "      <td>0.938752</td>\n",
              "      <td>0.231463</td>\n",
              "      <td>0.91793</td>\n",
              "    </tr>\n",
              "  </tbody>\n",
              "</table>\n",
              "</div>\n",
              "      <button class=\"colab-df-convert\" onclick=\"convertToInteractive('df-80569360-c740-41b4-8d88-de944006f2e6')\"\n",
              "              title=\"Convert this dataframe to an interactive table.\"\n",
              "              style=\"display:none;\">\n",
              "        \n",
              "  <svg xmlns=\"http://www.w3.org/2000/svg\" height=\"24px\"viewBox=\"0 0 24 24\"\n",
              "       width=\"24px\">\n",
              "    <path d=\"M0 0h24v24H0V0z\" fill=\"none\"/>\n",
              "    <path d=\"M18.56 5.44l.94 2.06.94-2.06 2.06-.94-2.06-.94-.94-2.06-.94 2.06-2.06.94zm-11 1L8.5 8.5l.94-2.06 2.06-.94-2.06-.94L8.5 2.5l-.94 2.06-2.06.94zm10 10l.94 2.06.94-2.06 2.06-.94-2.06-.94-.94-2.06-.94 2.06-2.06.94z\"/><path d=\"M17.41 7.96l-1.37-1.37c-.4-.4-.92-.59-1.43-.59-.52 0-1.04.2-1.43.59L10.3 9.45l-7.72 7.72c-.78.78-.78 2.05 0 2.83L4 21.41c.39.39.9.59 1.41.59.51 0 1.02-.2 1.41-.59l7.78-7.78 2.81-2.81c.8-.78.8-2.07 0-2.86zM5.41 20L4 18.59l7.72-7.72 1.47 1.35L5.41 20z\"/>\n",
              "  </svg>\n",
              "      </button>\n",
              "      \n",
              "  <style>\n",
              "    .colab-df-container {\n",
              "      display:flex;\n",
              "      flex-wrap:wrap;\n",
              "      gap: 12px;\n",
              "    }\n",
              "\n",
              "    .colab-df-convert {\n",
              "      background-color: #E8F0FE;\n",
              "      border: none;\n",
              "      border-radius: 50%;\n",
              "      cursor: pointer;\n",
              "      display: none;\n",
              "      fill: #1967D2;\n",
              "      height: 32px;\n",
              "      padding: 0 0 0 0;\n",
              "      width: 32px;\n",
              "    }\n",
              "\n",
              "    .colab-df-convert:hover {\n",
              "      background-color: #E2EBFA;\n",
              "      box-shadow: 0px 1px 2px rgba(60, 64, 67, 0.3), 0px 1px 3px 1px rgba(60, 64, 67, 0.15);\n",
              "      fill: #174EA6;\n",
              "    }\n",
              "\n",
              "    [theme=dark] .colab-df-convert {\n",
              "      background-color: #3B4455;\n",
              "      fill: #D2E3FC;\n",
              "    }\n",
              "\n",
              "    [theme=dark] .colab-df-convert:hover {\n",
              "      background-color: #434B5C;\n",
              "      box-shadow: 0px 1px 3px 1px rgba(0, 0, 0, 0.15);\n",
              "      filter: drop-shadow(0px 1px 2px rgba(0, 0, 0, 0.3));\n",
              "      fill: #FFFFFF;\n",
              "    }\n",
              "  </style>\n",
              "\n",
              "      <script>\n",
              "        const buttonEl =\n",
              "          document.querySelector('#df-80569360-c740-41b4-8d88-de944006f2e6 button.colab-df-convert');\n",
              "        buttonEl.style.display =\n",
              "          google.colab.kernel.accessAllowed ? 'block' : 'none';\n",
              "\n",
              "        async function convertToInteractive(key) {\n",
              "          const element = document.querySelector('#df-80569360-c740-41b4-8d88-de944006f2e6');\n",
              "          const dataTable =\n",
              "            await google.colab.kernel.invokeFunction('convertToInteractive',\n",
              "                                                     [key], {});\n",
              "          if (!dataTable) return;\n",
              "\n",
              "          const docLinkHtml = 'Like what you see? Visit the ' +\n",
              "            '<a target=\"_blank\" href=https://colab.research.google.com/notebooks/data_table.ipynb>data table notebook</a>'\n",
              "            + ' to learn more about interactive tables.';\n",
              "          element.innerHTML = '';\n",
              "          dataTable['output_type'] = 'display_data';\n",
              "          await google.colab.output.renderOutput(dataTable, element);\n",
              "          const docLink = document.createElement('div');\n",
              "          docLink.innerHTML = docLinkHtml;\n",
              "          element.appendChild(docLink);\n",
              "        }\n",
              "      </script>\n",
              "    </div>\n",
              "  </div>\n",
              "  "
            ]
          },
          "metadata": {},
          "execution_count": 74
        }
      ]
    },
    {
      "cell_type": "markdown",
      "source": [
        "Plot"
      ],
      "metadata": {
        "id": "mpdBbcncMylA"
      }
    },
    {
      "cell_type": "code",
      "source": [
        "import matplotlib.pyplot as plt\n",
        "plt.figure(figsize=(10,5))\n",
        "plt.plot(metrics_df.index, metrics_df.loss)\n",
        "plt.plot(metrics_df.index, metrics_df.val_loss)\n",
        "plt.title('Yelp Reviews Sentiment Analysis Model Loss over Epochs')\n",
        "plt.xlabel('Epochs')\n",
        "plt.ylabel('Binary Crossentropy')\n",
        "plt.legend(['Training Loss', 'Validation Loss'])\n",
        "plt.show()"
      ],
      "metadata": {
        "colab": {
          "base_uri": "https://localhost:8080/",
          "height": 487
        },
        "id": "upZ7rMVQtWo5",
        "outputId": "6ea72c3b-b420-4517-c666-ca474e89f943"
      },
      "execution_count": 76,
      "outputs": [
        {
          "output_type": "display_data",
          "data": {
            "text/plain": [
              "<Figure size 1000x500 with 1 Axes>"
            ],
            "image/png": "[encoded data removed]"
          },
          "metadata": {}
        }
      ]
    },
    {
      "cell_type": "markdown",
      "source": [
        "Testing"
      ],
      "metadata": {
        "id": "kQy3Thk9Mzto"
      }
    },
    {
      "cell_type": "code",
      "source": [
        "def test(review):\n",
        "  review = tokenizer.texts_to_sequences(review)\n",
        "  review = pad_sequences(review, maxlen=100, dtype='int32', value=0)\n",
        "  sentiment = model.predict(review, batch_size=1, verbose=2)[0]\n",
        "  print(sentiment)\n",
        "  if(sentiment < 0.5):\n",
        "    print(\"Negative\")\n",
        "  else:\n",
        "    print(\"Positive\")"
      ],
      "metadata": {
        "id": "SS-SKI1_u7zN"
      },
      "execution_count": 57,
      "outputs": []
    },
    {
      "cell_type": "code",
      "source": [
        "review = ['This is a good restaurant to eat, however the service was slow!']\n",
        "test(review)"
      ],
      "metadata": {
        "colab": {
          "base_uri": "https://localhost:8080/"
        },
        "id": "kE9xYQWrqgM-",
        "outputId": "1a895c22-ba12-4b54-beec-b031dcba3e6e"
      },
      "execution_count": 60,
      "outputs": [
        {
          "output_type": "stream",
          "name": "stdout",
          "text": [
            "1/1 - 0s - 45ms/epoch - 45ms/step\n",
            "[0.35082385]\n",
            "Negative\n"
          ]
        }
      ]
    },
    {
      "cell_type": "code",
      "source": [
        "review = ['This restaurant had an okayish vibe but the food was tasty!']\n",
        "test(review)"
      ],
      "metadata": {
        "colab": {
          "base_uri": "https://localhost:8080/"
        },
        "id": "ey6ZzxzUvPHK",
        "outputId": "fbfae364-6d41-4451-b022-23925d2f602e"
      },
      "execution_count": 62,
      "outputs": [
        {
          "output_type": "stream",
          "name": "stdout",
          "text": [
            "1/1 - 0s - 63ms/epoch - 63ms/step\n",
            "[0.7238563]\n",
            "Positive\n"
          ]
        }
      ]
    }
  ],
  "metadata": {
    "accelerator": "GPU",
    "colab": {
      "provenance": []
    },
    "gpuClass": "standard",
    "kernelspec": {
      "display_name": "Python 3",
      "name": "python3"
    },
    "language_info": {
      "name": "python"
    }
  },
  "nbformat": 4,
  "nbformat_minor": 0
}